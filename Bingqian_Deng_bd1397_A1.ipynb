{
 "cells": [
  {
   "cell_type": "code",
   "execution_count": 1,
   "metadata": {
    "colab": {},
    "colab_type": "code",
    "id": "EyJt4yZIQAem"
   },
   "outputs": [],
   "source": [
    "# Import dependencies\n",
    "import torch\n",
    "import torch.nn as nn\n",
    "from plot_lib import set_default, show_scatterplot, plot_bases\n",
    "from matplotlib.pyplot import plot, title, axis"
   ]
  },
  {
   "cell_type": "code",
   "execution_count": 2,
   "metadata": {
    "colab": {},
    "colab_type": "code",
    "id": "VTHDQFHFQAeq"
   },
   "outputs": [],
   "source": [
    "# Set up your device \n",
    "cuda = torch.cuda.is_available()\n",
    "device = torch.device(\"cuda:0\" if cuda else \"cpu\")"
   ]
  },
  {
   "cell_type": "code",
   "execution_count": 3,
   "metadata": {
    "colab": {},
    "colab_type": "code",
    "id": "exqe27QXQAet"
   },
   "outputs": [],
   "source": [
    "# Set up random seed to 1008. Do not change the random seed.\n",
    "seed = 1008\n",
    "torch.manual_seed(seed)\n",
    "if cuda:\n",
    "    torch.cuda.manual_seed_all(seed)"
   ]
  },
  {
   "cell_type": "markdown",
   "metadata": {
    "colab_type": "text",
    "id": "7krs-4XOQAev"
   },
   "source": [
    "# 1. Full, slice, fill\n",
    "Write a function `warm_up` that returns the 2D tensor with integers below. **Do not use any loops**.\n",
    "\n",
    "```\n",
    "1 2 1 1 1 1 2 1 1 1 1 2 1\n",
    "2 2 2 2 2 2 2 2 2 2 2 2 2\n",
    "1 2 1 1 1 1 2 1 1 1 1 2 1\n",
    "1 2 1 3 3 1 2 1 3 3 1 2 1\n",
    "1 2 1 3 3 1 2 1 3 3 1 2 1\n",
    "1 2 1 1 1 1 2 1 1 1 1 2 1\n",
    "2 2 2 2 2 2 2 2 2 2 2 2 2\n",
    "1 2 1 1 1 1 2 1 1 1 1 2 1\n",
    "1 2 1 3 3 1 2 1 3 3 1 2 1\n",
    "1 2 1 3 3 1 2 1 3 3 1 2 1\n",
    "1 2 1 1 1 1 2 1 1 1 1 2 1\n",
    "2 2 2 2 2 2 2 2 2 2 2 2 2\n",
    "1 2 1 1 1 1 2 1 1 1 1 2 1\n",
    "```\n",
    "\n",
    "\n",
    "Hint: Use `torch.full`, `torch.fill_`, and the slicing operator."
   ]
  },
  {
   "cell_type": "code",
   "execution_count": 5,
   "metadata": {
    "colab": {},
    "colab_type": "code",
    "id": "JsFk9OUoQAew"
   },
   "outputs": [
    {
     "name": "stdout",
     "output_type": "stream",
     "text": [
      "tensor([[1., 2., 1., 1., 1., 1., 2., 1., 1., 1., 1., 2., 1.],\n",
      "        [2., 2., 2., 2., 2., 2., 2., 2., 2., 2., 2., 2., 2.],\n",
      "        [1., 2., 1., 1., 1., 1., 2., 1., 1., 1., 1., 2., 1.],\n",
      "        [1., 2., 1., 3., 3., 1., 2., 1., 3., 3., 1., 2., 1.],\n",
      "        [1., 2., 1., 3., 3., 1., 2., 1., 3., 3., 1., 2., 1.],\n",
      "        [1., 2., 1., 1., 1., 1., 2., 1., 1., 1., 1., 2., 1.],\n",
      "        [2., 2., 2., 2., 2., 2., 2., 2., 2., 2., 2., 2., 2.],\n",
      "        [1., 2., 1., 1., 1., 1., 2., 1., 1., 1., 1., 2., 1.],\n",
      "        [1., 2., 1., 3., 3., 1., 2., 1., 3., 3., 1., 2., 1.],\n",
      "        [1., 2., 1., 3., 3., 1., 2., 1., 3., 3., 1., 2., 1.],\n",
      "        [1., 2., 1., 1., 1., 1., 2., 1., 1., 1., 1., 2., 1.],\n",
      "        [2., 2., 2., 2., 2., 2., 2., 2., 2., 2., 2., 2., 2.],\n",
      "        [1., 2., 1., 1., 1., 1., 2., 1., 1., 1., 1., 2., 1.]])\n"
     ]
    }
   ],
   "source": [
    "def warm_up():\n",
    "    A = torch.full((13,13),1)     \n",
    "    A[1,:].fill_(2)     \n",
    "    A[6,:].fill_(2)     \n",
    "    A[11,:].fill_(2)     \n",
    "    A[:,1].fill_(2)     \n",
    "    A[:,6].fill_(2)     \n",
    "    A[:,11].fill_(2)     \n",
    "    A[3:5,3:5].fill_(3)     \n",
    "    A[3:5,8:10].fill_(3)     \n",
    "    A[8:10,3:5].fill_(3)     \n",
    "    A[8:10,8:10].fill_(3)     \n",
    "    return A\n",
    "print(warm_up())"
   ]
  },
  {
   "cell_type": "markdown",
   "metadata": {
    "colab_type": "text",
    "id": "E8ivZVl5QAez"
   },
   "source": [
    "# 2. To Loop or not to loop"
   ]
  },
  {
   "cell_type": "markdown",
   "metadata": {
    "colab_type": "text",
    "id": "mxGRJK4-QAe0"
   },
   "source": [
    "## 2.1. `mul_row_loop`\n",
    "Write a function `mul_row_loop`, using python loops (and not even slicing operators), that gets a 2D tensor\n",
    "as input, and returns a tensor of same size, equal to the one given as argument, with the first row\n",
    "kept unchanged, the second multiplied by two, the third by three, etc.\n",
    "For instance:\n",
    "```\n",
    ">>> t = torch.full((4, 8), 2.0)\n",
    ">>> t\n",
    "tensor([[2., 2., 2., 2., 2., 2., 2., 2.],\n",
    "[2., 2., 2., 2., 2., 2., 2., 2.],\n",
    "[2., 2., 2., 2., 2., 2., 2., 2.],\n",
    "[2., 2., 2., 2., 2., 2., 2., 2.]])\n",
    ">>> mul_row(t)\n",
    "tensor([[2., 2., 2., 2., 2., 2., 2., 2.],\n",
    "[4., 4., 4., 4., 4., 4., 4., 4.],\n",
    "[6., 6., 6., 6., 6., 6., 6., 6.],\n",
    "[8., 8., 8., 8., 8., 8., 8., 8.]])\n",
    "```"
   ]
  },
  {
   "cell_type": "code",
   "execution_count": 20,
   "metadata": {
    "colab": {},
    "colab_type": "code",
    "id": "5YIAg1mlQAe0"
   },
   "outputs": [],
   "source": [
    "def mul_row_loop(input_tensor):\n",
    "    l = input_tensor.size()\n",
    "    for i in range(l[0]):\n",
    "        for j in range(l[1]):\n",
    "            input_tensor[i,j].fill_((i+1)*input_tensor[i][j]) \n",
    "    return input_tensor\n",
    "\n",
    "        \n",
    "    "
   ]
  },
  {
   "cell_type": "markdown",
   "metadata": {
    "colab_type": "text",
    "id": "ycMZbO2HQAe3"
   },
   "source": [
    "# 2.2. `mul_row_fast`\n",
    "Write a second version of the same function named `mul_row_fast` which uses tensor operations and no looping.\n",
    "\n",
    "**Hint**: Use broadcasting and `torch.arange`, `torch.view`, and `torch.mul`."
   ]
  },
  {
   "cell_type": "code",
   "execution_count": 19,
   "metadata": {
    "colab": {},
    "colab_type": "code",
    "id": "5V3Q-GX8QAe3"
   },
   "outputs": [],
   "source": [
    "def mul_row_fast(input_tensor):\n",
    "    size = input_tensor.size()\n",
    "    b = torch.arange(size[0])\n",
    "    b = b + 1\n",
    "    b = b.float()\n",
    "    res = torch.mul(input_tensor.t(),b).t()\n",
    "    return res\n"
   ]
  },
  {
   "cell_type": "markdown",
   "metadata": {
    "colab_type": "text",
    "id": "6MWuVzVQQAe7"
   },
   "source": [
    "# 2.3. `times`\n",
    "Write a function `times` which takes a 2D tensor as input and returns the run times of `mul_row_loop` and `mul_row_fast` on this tensor, respectively. Use `time.perf_counter`.\n",
    "\n",
    "Use `torch.ones` to create a 2D tensor of size (1000, 400) full of ones and run `times` on it (there should be more than two orders of magnitude difference)."
   ]
  },
  {
   "cell_type": "code",
   "execution_count": 9,
   "metadata": {
    "colab": {},
    "colab_type": "code",
    "id": "vlOKGDMJQAe8"
   },
   "outputs": [
    {
     "name": "stdout",
     "output_type": "stream",
     "text": [
      "8.373833571007708, 0.0003190200077369809\n"
     ]
    }
   ],
   "source": [
    "from time import perf_counter\n",
    "def times(input_tensor):\n",
    "    one_start = perf_counter()\n",
    "    mul_row_loop(input_tensor)\n",
    "    one_stop = perf_counter()\n",
    "    two_start = perf_counter()\n",
    "    mul_row_fast(input_tensor)\n",
    "    two_stop = perf_counter()\n",
    "    one = one_stop - one_start\n",
    "    two = two_stop - two_start\n",
    "    return one, two\n",
    "\n",
    "input_tensor = torch.ones(1000,400)\n",
    "time_1, time_2 = times(input_tensor)\n",
    "print('{}, {}'.format(time_1, time_2))"
   ]
  },
  {
   "cell_type": "markdown",
   "metadata": {
    "colab_type": "text",
    "id": "yn_FXad8QAe_"
   },
   "source": [
    "# 3. Non-linearities"
   ]
  },
  {
   "cell_type": "markdown",
   "metadata": {
    "colab_type": "text",
    "id": "19a6rMNeQAe_"
   },
   "source": [
    "## 3.1. ReLU\n",
    "ReLU (Rectified Linear Unit) is a non-linear activation fuction defined as:\n",
    "\n",
    "$$y = \\mathrm{max}(0,x)$$\n",
    "\n",
    "Define a fully connected neural network `linear_fc_relu` which:\n",
    "- takes 2 dimensional data as input and passes it through linear modules (`torch.nn.Linear`)\n",
    "- has one hidden layer of dimension 5 \n",
    "- has output dimension of 2\n",
    "- has ReLu as an activation function\n",
    "\n",
    "Create a tensor with input data $X$ of size (100, 2) using `torch.randn`. \n",
    "\n",
    "Following the example in https://github.com/Atcold/pytorch-Deep-Learning-Minicourse/blob/master/02-space_stretching.ipynb, visualize the output of passing `X` through the neural network `linear_fc_relu`."
   ]
  },
  {
   "cell_type": "code",
   "execution_count": 23,
   "metadata": {
    "colab": {},
    "colab_type": "code",
    "id": "XX0oEX98QAfA"
   },
   "outputs": [],
   "source": [
    "# Input data\n",
    "X = torch.randn(100,2)"
   ]
  },
  {
   "cell_type": "code",
   "execution_count": 11,
   "metadata": {},
   "outputs": [],
   "source": [
    "\n",
    "#in_size = 2\n",
    "#h_size = 5\n",
    "#out_size = 2\n",
    "# class Net1(nn.Module):\n",
    "#     def __init__(self, in_s, h_s, out_s):\n",
    "#         super().__init__()\n",
    "#         self.m1 = nn.Linear(in_s, h_s)\n",
    "#         self.m2 = nn.Linear(h_s, out_s)\n",
    "        \n",
    "#     def forward(self, x):\n",
    "#         x = torch.relu(self.m1(x.view(-1)))\n",
    "#         x = self.m2(x)\n",
    "#         return x"
   ]
  },
  {
   "cell_type": "code",
   "execution_count": 14,
   "metadata": {
    "colab": {},
    "colab_type": "code",
    "id": "zf-DCcGEQAfI",
    "scrolled": true
   },
   "outputs": [
    {
     "data": {
      "image/png": "[encoded data removed]",
      "text/plain": [
       "<Figure size 432x288 with 1 Axes>"
      ]
     },
     "metadata": {
      "needs_background": "light"
     },
     "output_type": "display_data"
    }
   ],
   "source": [
    "# create 1-layer neural networks with ReLU activation\n",
    "# linear_fc_relu = TODO \n",
    "# Visualize: TODO\n",
    "linear_fc_relu = nn.Sequential(\n",
    "        nn.Linear(2, 5, bias=False),\n",
    "        nn.ReLU(),\n",
    "        nn.Linear(5, 2, bias=False)\n",
    ")\n",
    "\n",
    "Y = linear_fc_relu(X).data\n",
    "show_scatterplot(Y, colors, title=f'f(x)')\n",
    "plot_bases(OI, width=0.01)\n",
    "#linear_fc_relu = Net1(in_size, h_size, out_size)  \n",
    "#out = linear_fc_relu(X[1])\n",
    "#print(out)"
   ]
  },
  {
   "cell_type": "markdown",
   "metadata": {
    "colab_type": "text",
    "id": "RSznMa6rQAfL"
   },
   "source": [
    "## 3.2. Sigmoid\n",
    "The sigmoid function is another popular choice for a non-linear activation function which maps its input to values in the interval $(0,1)$. It is formally defined as:\n",
    "\n",
    "$$\\sigma(x) = \\frac{1}{1+ e^{-x}}$$\n",
    "\n",
    "Define a new neural network `linear_fc_sigmoid` which is the same architecture as in part `3.1.` but with a sigmoid unit instead of ReLU. \n",
    "\n",
    "Using the same $X$ as in part `3.1`, visualize the output of passing `X` through the neural network `linear_fc_sigmoid`."
   ]
  },
  {
   "cell_type": "code",
   "execution_count": 18,
   "metadata": {},
   "outputs": [
    {
     "data": {
      "image/png": "[encoded data removed]",
      "text/plain": [
       "<Figure size 432x288 with 1 Axes>"
      ]
     },
     "metadata": {
      "needs_background": "light"
     },
     "output_type": "display_data"
    }
   ],
   "source": [
    "# create 1-layer neural networks with Sigmoid activation\n",
    "# linear_fc_sigmoid = TODO \n",
    "# Visualize: TODO\n",
    "linear_fc_sigmoid = nn.Sequential(\n",
    "        nn.Linear(2, 5, bias=False),\n",
    "        nn.Sigmoid(),\n",
    "        nn.Linear(5, 2, bias=False)\n",
    ")\n",
    "\n",
    "Y = linear_fc_sigmoid(X).data\n",
    "show_scatterplot(Y, colors, title=f'f(x)')\n",
    "plot_bases(OI, width=0.01)\n",
    "  "
   ]
  }
 ],
 "metadata": {
  "colab": {
   "name": "DS-GA-1008-HW_assignment_1.ipynb",
   "provenance": [],
   "version": "0.3.2"
  },
  "kernelspec": {
   "display_name": "Python 3",
   "language": "python",
   "name": "python3"
  },
  "language_info": {
   "codemirror_mode": {
    "name": "ipython",
    "version": 3
   },
   "file_extension": ".py",
   "mimetype": "text/x-python",
   "name": "python",
   "nbconvert_exporter": "python",
   "pygments_lexer": "ipython3",
   "version": "3.6.8"
  }
 },
 "nbformat": 4,
 "nbformat_minor": 1
}
